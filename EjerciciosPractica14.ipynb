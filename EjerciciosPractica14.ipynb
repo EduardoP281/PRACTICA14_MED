{
 "cells": [
  {
   "cell_type": "code",
   "execution_count": null,
   "metadata": {},
   "outputs": [],
   "source": [
    "import re\n",
    "\n",
    "def verificar_codigo_empleado(cadena):\n",
    "    patron_codigo_empleado = re.compile(r'^EMP\\d{3}$')\n",
    "\n",
    "    coincidencia = patron_codigo_empleado.match(cadena)\n",
    "\n",
    "    if coincidencia:\n",
    "        return True\n",
    "    else:\n",
    "        return False\n",
    "\n",
    "codigo_empleado = input(\"Por favor escriba el codigo de empleado: \")\n",
    "\n",
    "if verificar_codigo_empleado(codigo_empleado):\n",
    "    print(f\"{codigo_empleado} es un código de empleado válido.\")\n",
    "else:\n",
    "    print(f\"{codigo_empleado} no es un código de empleado válido.\")\n"
   ]
  },
  {
   "cell_type": "code",
   "execution_count": null,
   "metadata": {},
   "outputs": [],
   "source": [
    "import re\n",
    "\n",
    "def buscar_fecha():\n",
    "    fecha_usuario = input(\"Ingrese una fecha en el formato dd/mm/yyyy: \")\n",
    "\n",
    "    patron_fecha = re.compile(r'\\b\\d{2}/\\d{2}/\\d{4}\\b')\n",
    "\n",
    "    coincidencia = patron_fecha.search(fecha_usuario)\n",
    "\n",
    "    if coincidencia:\n",
    "        return True\n",
    "    else:\n",
    "        return False\n",
    "\n",
    "if buscar_fecha():\n",
    "    print(\"Se ingresó una fecha válida.\")\n",
    "else:\n",
    "    print(\"La fecha ingresada no es válida o no está en el formato correcto.\")\n"
   ]
  },
  {
   "cell_type": "code",
   "execution_count": null,
   "metadata": {},
   "outputs": [],
   "source": [
    "import re\n",
    "\n",
    "def encontrar_palabras_minusculas(texto):\n",
    "    patron_palabras_minusculas = re.compile(r'\\b[a-z]+\\b')\n",
    "\n",
    "    palabras_encontradas = patron_palabras_minusculas.findall(texto)\n",
    "\n",
    "    return palabras_encontradas\n",
    "\n",
    "texto_ejemplo = \"Cadena para verificar si hay palabras en minúsculas y MAYUSCULAS jaja no sirve si se le ponen palabras con tilde xd\"\n",
    "palabras_encontradas = encontrar_palabras_minusculas(texto_ejemplo)\n",
    "\n",
    "print(\"Palabras en minúsculas encontradas:\")\n",
    "print(palabras_encontradas)\n"
   ]
  },
  {
   "cell_type": "code",
   "execution_count": null,
   "metadata": {},
   "outputs": [],
   "source": [
    "import re\n",
    "\n",
    "def encontrar_ocurrencias_palabra(texto, palabra_buscar):\n",
    "    patron_ocurrencias = re.compile(r'\\b' + re.escape(palabra_buscar) + r'\\b', re.IGNORECASE)\n",
    "\n",
    "    iterador_ocurrencias = patron_ocurrencias.finditer(texto)\n",
    "\n",
    "    ubicaciones_ocurrencias = [coincidencia.span() for coincidencia in iterador_ocurrencias]\n",
    "\n",
    "    return ubicaciones_ocurrencias\n",
    "\n",
    "texto_ejemplo = \"Este es un ejemplo de texto. Este texto contiene la palabra 'ejemplo' varias veces.\"\n",
    "palabra_a_buscar = \"ejemplo\"\n",
    "ocurrencias = encontrar_ocurrencias_palabra(texto_ejemplo, palabra_a_buscar)\n",
    "\n",
    "print(f\"Ubicaciones de la palabra '{palabra_a_buscar}':\")\n",
    "for inicio, fin in ocurrencias:\n",
    "    print(f\"Desde el índice {inicio} hasta el índice {fin - 1}\")\n"
   ]
  }
 ],
 "metadata": {
  "kernelspec": {
   "display_name": "Python 3",
   "language": "python",
   "name": "python3"
  },
  "language_info": {
   "codemirror_mode": {
    "name": "ipython",
    "version": 3
   },
   "file_extension": ".py",
   "mimetype": "text/x-python",
   "name": "python",
   "nbconvert_exporter": "python",
   "pygments_lexer": "ipython3",
   "version": "3.12.0"
  }
 },
 "nbformat": 4,
 "nbformat_minor": 2
}
